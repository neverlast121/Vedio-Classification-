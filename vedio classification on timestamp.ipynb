{
 "cells": [
  {
   "cell_type": "code",
   "execution_count": 1,
   "metadata": {},
   "outputs": [],
   "source": [
    "import cv2\n",
    "import os\n",
    "import shutil"
   ]
  },
  {
   "cell_type": "code",
   "execution_count": 2,
   "metadata": {},
   "outputs": [],
   "source": [
    "# Define the path to the directory containing the videos\n",
    "video_directory = 'psl vedio'\n",
    "\n",
    "# Create a dictionary to keep track of videos by duration\n",
    "videos_by_duration = {}"
   ]
  },
  {
   "cell_type": "code",
   "execution_count": 3,
   "metadata": {},
   "outputs": [],
   "source": [
    "# Iterate over the videos in the specified directory\n",
    "for video_file in os.listdir(video_directory):\n",
    "    if not video_file.endswith('.mp4'):\n",
    "        continue\n",
    "\n",
    "    # Load the video and extract its duration\n",
    "    video_path = os.path.join(video_directory, video_file)\n",
    "    cap = cv2.VideoCapture(video_path)\n",
    "    duration = int(cap.get(cv2.CAP_PROP_FRAME_COUNT) / cap.get(cv2.CAP_PROP_FPS))\n",
    "\n",
    "    # Add the video file to the dictionary for its duration\n",
    "    if duration not in videos_by_duration:\n",
    "        videos_by_duration[duration] = []\n",
    "    videos_by_duration[duration].append(video_path)"
   ]
  },
  {
   "cell_type": "code",
   "execution_count": 4,
   "metadata": {},
   "outputs": [],
   "source": [
    "# Create a folder for each unique duration and move the corresponding videos to the folder\n",
    "for duration, video_paths in videos_by_duration.items():\n",
    "    directory = f'{duration}s'\n",
    "    os.makedirs(directory, exist_ok=True)\n",
    "    for video_path in video_paths:\n",
    "        video_file = os.path.basename(video_path)\n",
    "        shutil.move(video_path, os.path.join(directory, video_file))\n"
   ]
  }
 ],
 "metadata": {
  "kernelspec": {
   "display_name": "Python 3",
   "language": "python",
   "name": "python3"
  },
  "language_info": {
   "codemirror_mode": {
    "name": "ipython",
    "version": 3
   },
   "file_extension": ".py",
   "mimetype": "text/x-python",
   "name": "python",
   "nbconvert_exporter": "python",
   "pygments_lexer": "ipython3",
   "version": "3.10.7"
  },
  "orig_nbformat": 4
 },
 "nbformat": 4,
 "nbformat_minor": 2
}
